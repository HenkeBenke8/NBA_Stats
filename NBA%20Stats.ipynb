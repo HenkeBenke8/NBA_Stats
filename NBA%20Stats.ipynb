{
 "cells": [
  {
   "cell_type": "markdown",
   "metadata": {},
   "source": [
    "# NBA Stats\n",
    "#### Se statsene til spillere for sesongen 2014-2015\n",
    "De forskjellige funksjonene du kan bruke er:\n",
    "* PPG (Points Per Game)\n",
    "* Hver enkelt stat til hver enkelt spiller\n",
    "* Statsene til flere spillere samtidig"
   ]
  },
  {
   "cell_type": "code",
   "execution_count": null,
   "metadata": {},
   "outputs": [],
   "source": [
    "import pandas as pd\n",
    "stats = pd.read_csv(\"Players_stats.csv\", sep = \",\")\n",
    "def PPG(navn):\n",
    "    for i in navn:\n",
    "        points = stats.loc[lambda stats: stats['Name'] == i, \"PTS\"]\n",
    "        games = stats.loc[lambda stats: stats['Name'] == i, \"Games Played\"]\n",
    "        PPG = points / games\n",
    "        print(i, \" hadde en PPG average på\", PPG, \" i sesongen 2014-15\")\n",
    "        \n",
    "\n",
    "def show(players):\n",
    "    for i in players:\n",
    "        print(stats.loc[lambda stats: stats['Name'] == i])\n",
    "\n",
    "def stat(player, stat):\n",
    "    sats = str(stat)\n",
    "    spiller = stats.loc[lambda stats: stats[\"Name\"] == player, sats]\n",
    "    print(spiller)\n",
    "        "
   ]
  },
  {
   "cell_type": "markdown",
   "metadata": {},
   "source": [
    "#### Alt under dette er hvor man velger og kjører funksjonene"
   ]
  },
  {
   "cell_type": "code",
   "execution_count": null,
   "metadata": {},
   "outputs": [],
   "source": [
    "\n",
    "op = input(\"Hva vil du se?\\n\")\n",
    "spillere = []\n",
    "if op == \"Vis stats\":\n",
    "    sant = True\n",
    "    while sant:\n",
    "        spiller = input(\"Hvilke spillere sine stats vil du se?\\n\")\n",
    "        if spiller != \"\":\n",
    "            spillere.append(spiller)\n",
    "        elif spiller == \"\":\n",
    "            sant = False\n",
    "    show(spillere)\n",
    "elif op == \"PPG\":\n",
    "    sant = True\n",
    "    while sant:\n",
    "        spiller = input(\"Hvilke spillere sine stats vil du se?\\n\")\n",
    "        if spiller != \"\":\n",
    "            spillere.append(spiller)\n",
    "        elif spiller == \"\":\n",
    "            sant = False\n",
    "    PPG(spillere)\n",
    "elif op == \"STL/TO\":\n",
    "    sant = True\n",
    "    while sant:\n",
    "        spiller = input(\"Hvilke spillere sine stats vil du se?\\n\")\n",
    "        if spiller != \"\":\n",
    "            spillere.append(spiller)\n",
    "        elif spiller == \"\":\n",
    "            sant = False\n",
    "    ToSt(spillere)\n",
    "elif op == \"Single Stat\":\n",
    "    spiller = input(\"Hvilken spiller vil du se?\\n\")\n",
    "    stat = input(\"Hvilken stat vil du se?\\n\")\n",
    "    stat(spiller, stat)\n"
   ]
  },
  {
   "cell_type": "code",
   "execution_count": null,
   "metadata": {},
   "outputs": [],
   "source": []
  }
 ],
 "metadata": {
  "kernelspec": {
   "display_name": "Python 3",
   "language": "python",
   "name": "python3"
  },
  "language_info": {
   "codemirror_mode": {
    "name": "ipython",
    "version": 3
   },
   "file_extension": ".py",
   "mimetype": "text/x-python",
   "name": "python",
   "nbconvert_exporter": "python",
   "pygments_lexer": "ipython3",
   "version": "3.7.0"
  }
 },
 "nbformat": 4,
 "nbformat_minor": 2
}
