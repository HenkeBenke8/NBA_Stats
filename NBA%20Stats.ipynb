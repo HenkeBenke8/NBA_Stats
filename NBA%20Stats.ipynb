{
 "cells": [
  {
   "cell_type": "markdown",
   "metadata": {},
   "source": [
    "# NBA Stats\n",
    "#### Se statsene til spillere for sesongen 2014-2015\n",
    "De forskjellige funksjonene du kan bruke er:\n",
    "* PPG (Points Per Game)\n",
    "* Hver enkelt stat til hver enkelt spiller\n",
    "* Statsene til flere spillere samtidig\n",
    "* Sammenligning av stats mellom ulike spilelre\n",
    "* Sammenligning av stats som et lag\n",
    "* Vise top 10 spillere for en stat man velger "
   ]
  },
  {
   "cell_type": "markdown",
   "metadata": {},
   "source": [
    "#### Under så leser vi av datafilen og definerer ulike funksjoner.\n",
    "1. Den første funksjonen (PPG) viser en spiller sine poeng per kamper spilt.\n",
    "2. Den andre (show) er en enkel funksjon som bare alle stats til en eller flere spillere\n",
    "3. Den tredje viser en spesifikk stat til en eller flere spillere\n",
    "    *Som antall poeng, minutter og kamper gjennom hele sesongen\n",
    "4. Den siste viser et eller flere lag sine stats"
   ]
  },
  {
   "cell_type": "code",
   "execution_count": null,
   "metadata": {},
   "outputs": [],
   "source": [
    "import pandas as pd\n",
    "\n",
    "print(\"Disse stats kan man velge gjennom \\n\"\n",
    "      \"Antall poeng/kamper spilt (PPG) \\n\"\n",
    "      \"Viser alle stats til en spiller (Vis stats) \\n\"\n",
    "      \"Viser en spesifikk stat til en eller flere spillere (Single Stat) \\n\"\n",
    "      \"Viser stats til et lag (Team) \\n\")\n",
    "\n",
    "\n",
    "stats = pd.read_csv(\"Players_stats.csv\", sep = \",\")\n",
    "pd.set_option(\"display.max_columns\", 35)\n",
    "pd.set_option(\"display.max_rows\", 492)\n",
    "def PPG(navn):\n",
    "    for i in navn:\n",
    "        points = stats.loc[lambda stats: stats['Name'] == i, \"PTS\"]\n",
    "        games = stats.loc[lambda stats: stats['Name'] == i, \"Games Played\"]\n",
    "        PPG = points / games\n",
    "        print(i, \" hadde en PPG average på\", PPG.values, \" i sesongen 2014-15\")\n",
    "        \n",
    "\n",
    "def show(players):\n",
    "    for i in players:\n",
    "        s = stats.loc[lambda stats: stats['Name'] == i]\n",
    "        print(s)\n",
    "\n",
    "def stat(player, stat):\n",
    "    for i in player:\n",
    "        s = stats.loc[lambda stats: stats['Name'] == i, stat]\n",
    "        print(\"I sesongen 2014-15 så hadde \", i, \" en \", stat, \" på \", s.values)\n",
    "\n",
    "def Team(lagg):\n",
    "    for lag in lagg:\n",
    "        print(\"---------\", lag, \"---------\")\n",
    "        players = []\n",
    "        PTS = []\n",
    "        REB = []\n",
    "        STL = []\n",
    "        TO = []\n",
    "        PER = []\n",
    "        AST = []\n",
    "        for i in range(490):\n",
    "            d = stats.loc[lambda stats: i, \"Team\"]\n",
    "            if d == lag:\n",
    "                print(stats.loc[lambda stats: i, \"Name\"])\n",
    "                players.append(stats.loc[lambda stats: i, \"Name\"])\n",
    "        for f in players:\n",
    "            points = stats.loc[lambda stats: stats[\"Name\"] == f, \"PTS\"]\n",
    "            PTS.append(points.values)\n",
    "            reb = stats.loc[lambda stats: stats[\"Name\"] == f, \"REB\"]\n",
    "            REB.append(reb.values)\n",
    "            steals = stats.loc[lambda stats: stats[\"Name\"] == f, \"STL\"]\n",
    "            STL.append(steals.values)\n",
    "            turn = stats.loc[lambda stats: stats[\"Name\"] == f, \"TOV\"]\n",
    "            TO.append(turn.values)\n",
    "            percent = stats.loc[lambda stats: stats[\"Name\"] == f, \"FG%\"]\n",
    "            PER.append(percent.values)\n",
    "            assist = stats.loc[lambda stats: stats[\"Name\"] == f, \"AST\"]\n",
    "            AST.append(assist.values)\n",
    "        PPG = sum(PTS) / 82\n",
    "        RPG = sum(REB) / 82\n",
    "        SPG = sum(STL) / 82\n",
    "        TPG = sum(TO) / 82\n",
    "        PG = sum(PER) / 82\n",
    "        APG = sum(AST) / 82\n",
    "        print(lag, \" sin PPG er: \", PPG, \", rebounds per game er: \", RPG, \", steals per game er: \", SPG, \", \")\n",
    "        print(\"turnovers per game er: \", TPG, \", average percentage er:\", PG, \", assists per game er: \", APG)\n",
    "        print(\"\")"
   ]
  },
  {
   "cell_type": "markdown",
   "metadata": {},
   "source": [
    "#### Alt under dette er hvor man velger og kjører funksjonene"
   ]
  },
  {
   "cell_type": "code",
   "execution_count": null,
   "metadata": {},
   "outputs": [],
   "source": [
    "op = input(\"Hva vil du se?\\n\")\n",
    "spillere = []\n",
    "if op == \"Vis stats\":\n",
    "    sant = True\n",
    "    while sant:\n",
    "        spiller = input(\"Hvilke spillere sine stats vil du se?\\n\")\n",
    "        if spiller != \"\":\n",
    "            spillere.append(spiller)\n",
    "        elif spiller == \"\":\n",
    "            sant = False\n",
    "    show(spillere)\n",
    "elif op == \"PPG\":\n",
    "    sant = True\n",
    "    while sant:\n",
    "        spiller = input(\"Hvilke spillere sine stats vil du se?\\n\")\n",
    "        if spiller != \"\":\n",
    "            spillere.append(spiller)\n",
    "        elif spiller == \"\":\n",
    "            sant = False\n",
    "    PPG(spillere)\n",
    "elif op == \"Single Stat\":\n",
    "    for i in range(1):\n",
    "        spiller = input(\"Hvilken spiller sine stats vil du se?\\n\")\n",
    "        spillere.append(spiller)\n",
    "        statss = input(\"Hvilken stat vil du se?\\n\")\n",
    "    stat(spillere, statss)\n",
    "elif op == \"Team\":\n",
    "    lag = input(\"Hvilket lag vil du se spillerne til?\\n\")\n",
    "    Team(lag)"
   ]
  },
  {
   "cell_type": "code",
   "execution_count": null,
   "metadata": {},
   "outputs": [],
   "source": []
  }
 ],
 "metadata": {
  "kernelspec": {
   "display_name": "Python 3",
   "language": "python",
   "name": "python3"
  },
  "language_info": {
   "codemirror_mode": {
    "name": "ipython",
    "version": 3
   },
   "file_extension": ".py",
   "mimetype": "text/x-python",
   "name": "python",
   "nbconvert_exporter": "python",
   "pygments_lexer": "ipython3",
   "version": "3.7.0"
  }
 },
 "nbformat": 4,
 "nbformat_minor": 2
}
